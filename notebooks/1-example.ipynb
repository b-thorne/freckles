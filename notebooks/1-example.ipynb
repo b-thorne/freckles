{
 "cells": [
  {
   "cell_type": "code",
   "execution_count": 44,
   "metadata": {},
   "outputs": [],
   "source": [
    "import matplotlib.pyplot as plt\n",
    "import freckles\n",
    "import numpy as np\n",
    "import healpy\n",
    "from scipy.optimize import minimize\n",
    "from scipy.stats import norm"
   ]
  },
  {
   "cell_type": "markdown",
   "metadata": {},
   "source": [
    "# Component separation\n",
    "\n",
    "The component separation code will expect data in a dictionary with keywords `data` and `noisevar`. `data` expects an array with the shape (`npol`, `npix`, `nfreq`), and noisevar expects shape (`npol`, `npix`, `nfreqs`). The first two dimensions are flattened, so the same index is assumed for $Q$ and $U$, and they are treated equivalently.\n",
    "\n",
    "## InstrumentModel\n",
    "\n",
    "The instrument is defined by a dictionary with keys `nu` and `bps`.\n",
    "\n",
    "## SkyModel\n",
    "\n",
    "`freckles.separation.SkyModel` is defined by a list of component names.\n",
    "\n",
    "## MapLike\n",
    "\n",
    "`MapLike` is initialized with a dictionary of the following keywords:\n",
    "\n",
    "- `data`\n",
    "- `noisevar`\n",
    "- `var_pars`\n",
    "- `fixed_pars`\n",
    "- `var_prior_mean`\n",
    "- `var_prior_width`\n",
    "- `var_prior_type`"
   ]
  },
  {
   "cell_type": "code",
   "execution_count": 3,
   "metadata": {},
   "outputs": [],
   "source": [
    "def get_bps(frequencies):\n",
    "    \"\"\" Method to calculate and return a delta function bandpass in the\n",
    "    correct form for `freckles.separation.MapLike` from an array of frequencies.\n",
    "\n",
    "    Parameters\n",
    "    ----------\n",
    "    frequencies: array_like(float)\n",
    "        Array of frequencies at which to center the delta bandpasses.\n",
    "\n",
    "    Returns\n",
    "    -------\n",
    "    list(dict)\n",
    "        List of dictionaries, each dictionary contains two keys,\n",
    "        'nu', an array specifying samples within the bandpass, and\n",
    "        'bps', containing a correspondin weight for each sample in\n",
    "        frequency.\n",
    "    \"\"\"\n",
    "    bps = np.array([\n",
    "        {\n",
    "            'nu': np.array([freq - 0.1, freq + 0.1]),\n",
    "            'bps': np.array([1])\n",
    "        } for freq in frequencies])\n",
    "    return bps\n",
    "\n",
    "def fake_data():\n",
    "    return data"
   ]
  },
  {
   "cell_type": "code",
   "execution_count": 4,
   "metadata": {},
   "outputs": [],
   "source": [
    "freqs = np.array([20., 30., 90., 143., 220., 350., 500.])"
   ]
  },
  {
   "cell_type": "code",
   "execution_count": 5,
   "metadata": {},
   "outputs": [],
   "source": [
    "nres = 40\n",
    "syncsed = freckles.separation.components.syncpl(freqs, 23., -3.1)\n",
    "dustsed = freckles.separation.components.dustmbb(freqs, 353., 1.55, 20.)\n",
    "sync_template = np.random.randn(nres, nres).reshape(nres ** 2)\n",
    "dust_template = np.random.randn(nres, nres).reshape(nres ** 2)"
   ]
  },
  {
   "cell_type": "code",
   "execution_count": 6,
   "metadata": {},
   "outputs": [],
   "source": [
    "syncobs = sync_template[None, :, None] * syncsed[None, None, :] * 10\n",
    "dustobs = dust_template[None, :, None] * dustsed[None, None, :] * 10"
   ]
  },
  {
   "cell_type": "code",
   "execution_count": 17,
   "metadata": {},
   "outputs": [],
   "source": [
    "sigma_pix = 1. * np.ones((1, nres ** 2, len(freqs))) * (syncsed + dustsed)[None, None, :]\n",
    "noise = np.random.randn(1, nres ** 2, len(freqs)) * sigma_pix\n",
    "noisevar = sigma_pix ** 2\n",
    "\n",
    "sky = syncobs + dustobs + noise"
   ]
  },
  {
   "cell_type": "code",
   "execution_count": 18,
   "metadata": {},
   "outputs": [
    {
     "data": {
      "image/png": "[encoded data removed]",
      "text/plain": [
       "<Figure size 432x288 with 1 Axes>"
      ]
     },
     "metadata": {
      "needs_background": "light"
     },
     "output_type": "display_data"
    }
   ],
   "source": [
    "fig, ax = plt.subplots(1, 1)\n",
    "ax.loglog(freqs, syncsed, label='sync')\n",
    "ax.loglog(freqs, dustsed, label='dust')\n",
    "ax.loglog(freqs, dustsed + syncsed, label='dust + sync')\n",
    "ax.loglog(freqs, sigma_pix[0, 0], label='sigma')\n",
    "ax.loglog(freqs, np.abs(sky[0, 2, :]), label='random pixel')\n",
    "ax.legend()\n",
    "ax.set_xlabel(r\"$\\nu~{\\rm (GHz)}$\")\n",
    "ax.set_ylabel(r\"$f_{\\rm sed}$\");"
   ]
  },
  {
   "cell_type": "code",
   "execution_count": 19,
   "metadata": {},
   "outputs": [],
   "source": [
    "instrumentmodel = freckles.separation.InstrumentModel(get_bps(freqs))\n",
    "\n",
    "skymodel = freckles.separation.SkyModel(['syncpl', 'dustmbb'])\n",
    "\n",
    "config_dict = {\n",
    "    'data': sky,\n",
    "    'noisevar': noisevar,\n",
    "    'var_pars': [\"beta_d\", \"beta_s\"],\n",
    "    'fixed_pars': {\"nu_ref_d\": 353., \"nu_ref_s\": 23., \"T_d\": 20.},\n",
    "    'var_prior_mean': [1.55, -3.1],\n",
    "    'var_prior_width': [0.1, 0.1],\n",
    "    'var_prior_type': ['gauss', 'gauss']\n",
    "}\n",
    "\n",
    "maplike = freckles.separation.MapLike(config_dict, skymodel, instrumentmodel)"
   ]
  },
  {
   "cell_type": "markdown",
   "metadata": {},
   "source": [
    "## Maximum Likelihood $\\theta$"
   ]
  },
  {
   "cell_type": "code",
   "execution_count": 20,
   "metadata": {},
   "outputs": [],
   "source": [
    "p0 = np.array([1.5, -3.])\n",
    "fmat = maplike.f_matrix(p0)"
   ]
  },
  {
   "cell_type": "code",
   "execution_count": null,
   "metadata": {},
   "outputs": [],
   "source": [
    "res = freckles.separation.sampling.run_minimize(maplike.marginal_spectral_likelihood, p0)"
   ]
  },
  {
   "cell_type": "code",
   "execution_count": null,
   "metadata": {},
   "outputs": [],
   "source": [
    "fig, ax = plt.subplots(2, 2, figsize=(6, 6))\n",
    "plt.subplots_adjust(hspace=0.1)\n",
    "for a in ax.flatten():\n",
    "    a.axis('off')\n",
    "ax[0, 0].imshow(dust_template.reshape(nres, nres))\n",
    "ax[0, 0].set_title(\"Input dust\")\n",
    "ax[0, 1].imshow(maplike.get_amplitude_mean(res['params_ML'])[:, 1].reshape(nres, nres))\n",
    "ax[0, 1].set_title(\"ML dust\")\n",
    "ax[1, 0].imshow(sync_template.reshape(nres, nres))\n",
    "ax[1, 0].set_title(\"Input sync\")\n",
    "ax[1, 1].imshow(maplike.get_amplitude_mean(res['params_ML'])[:, 0].reshape(nres, nres))\n",
    "ax[1, 1].set_title(\"ML sync\")"
   ]
  },
  {
   "cell_type": "markdown",
   "metadata": {},
   "source": [
    "## Fisher prediction for uncertainties on $\\theta$"
   ]
  },
  {
   "cell_type": "code",
   "execution_count": 41,
   "metadata": {},
   "outputs": [],
   "source": [
    "fish = freckles.separation.sampling.run_fisher(maplike.marginal_spectral_likelihood, p0, ml_first=True)"
   ]
  },
  {
   "cell_type": "code",
   "execution_count": 73,
   "metadata": {},
   "outputs": [],
   "source": [
    "fisher_cov_mat = np.linalg.inv(fish['fisher_m']) \n",
    "fish_sigma_beta_d = fisher_cov_mat[0, 0]\n",
    "fish_sigma_beta_s = fisher_cov_mat[1, 1]\n",
    "\n",
    "fish_betad = norm(loc=fish['params_cent'][0], scale=np.sqrt(fish_sigma_beta_d))\n",
    "fish_betas = norm(loc=fish['params_cent'][1], scale=np.sqrt(fish_sigma_beta_s))"
   ]
  },
  {
   "cell_type": "code",
   "execution_count": 74,
   "metadata": {},
   "outputs": [
    {
     "name": "stdout",
     "output_type": "stream",
     "text": [
      "0.002065239058458388\n",
      "0.009722634810149946\n"
     ]
    }
   ],
   "source": [
    "print(np.std(sample_res['chains'][:, 0]))\n",
    "print(np.std(sample_res['chains'][:, 1]))"
   ]
  },
  {
   "cell_type": "markdown",
   "metadata": {},
   "source": [
    "## Sampling $\\theta$"
   ]
  },
  {
   "cell_type": "code",
   "execution_count": 75,
   "metadata": {},
   "outputs": [
    {
     "name": "stderr",
     "output_type": "stream",
     "text": [
      "/home/bthorne/anaconda3/envs/freckles/lib/python3.7/site-packages/emcee/ensemble.py:258: RuntimeWarning: Initial state is not linearly independent and it will not allow a full exploration of parameter space\n",
      "  category=RuntimeWarning,\n"
     ]
    },
    {
     "name": "stdout",
     "output_type": "stream",
     "text": [
      "(100, 12.640953581176483)\n",
      "(200, 22.280284079199642)\n"
     ]
    }
   ],
   "source": [
    "sample_res = freckles.separation.sampling.run_emcee(maplike.marginal_spectral_likelihood, p0)"
   ]
  },
  {
   "cell_type": "code",
   "execution_count": 89,
   "metadata": {},
   "outputs": [
    {
     "data": {
      "text/plain": [
       "<matplotlib.legend.Legend at 0x7f6deaedbc18>"
      ]
     },
     "execution_count": 89,
     "metadata": {},
     "output_type": "execute_result"
    },
    {
     "data": {
      "image/png": "[encoded data removed]",
      "text/plain": [
       "<Figure size 432x288 with 2 Axes>"
      ]
     },
     "metadata": {
      "needs_background": "light"
     },
     "output_type": "display_data"
    }
   ],
   "source": [
    "fig, ax = plt.subplots(1, 2, figsize=(6, 4))\n",
    "bininfo1 = ax[0].hist(sample_res['chains'][:, 0], range=[1.54, 1.56], bins=100, density=True)\n",
    "ax[0].plot(bininfo1[1], fish_betad.pdf(bininfo1[1]))\n",
    "ax[0].set_xlabel(r\"$\\beta_d$\")\n",
    "bininfo2 = ax[1].hist(sample_res['chains'][:, 1], range=[-3.15, -3.05], bins=100, density=True, label='MC samples')\n",
    "ax[1].plot(bininfo2[1], fish_betas.pdf(bininfo2[1]), label='Fisher')\n",
    "ax[1].set_xlabel(r\"$\\beta_s$\")\n",
    "ax[1].legend(bbox_to_anchor=(1., 1.), loc='upper left', frameon=False)"
   ]
  },
  {
   "cell_type": "markdown",
   "metadata": {},
   "source": []
  },
  {
   "cell_type": "code",
   "execution_count": null,
   "metadata": {},
   "outputs": [],
   "source": []
  },
  {
   "cell_type": "code",
   "execution_count": null,
   "metadata": {},
   "outputs": [],
   "source": []
  },
  {
   "cell_type": "code",
   "execution_count": 93,
   "metadata": {},
   "outputs": [
    {
     "data": {
      "text/plain": [
       "\u001b[0;31mInit signature:\u001b[0m \u001b[0mslice\u001b[0m\u001b[0;34m(\u001b[0m\u001b[0mself\u001b[0m\u001b[0;34m,\u001b[0m \u001b[0;34m/\u001b[0m\u001b[0;34m,\u001b[0m \u001b[0;34m*\u001b[0m\u001b[0margs\u001b[0m\u001b[0;34m,\u001b[0m \u001b[0;34m**\u001b[0m\u001b[0mkwargs\u001b[0m\u001b[0;34m)\u001b[0m\u001b[0;34m\u001b[0m\u001b[0;34m\u001b[0m\u001b[0m\n",
       "\u001b[0;31mDocstring:\u001b[0m     \n",
       "slice(stop)\n",
       "slice(start, stop[, step])\n",
       "\n",
       "Create a slice object.  This is used for extended slicing (e.g. a[0:10:2]).\n",
       "\u001b[0;31mType:\u001b[0m           type\n",
       "\u001b[0;31mSubclasses:\u001b[0m     \n"
      ]
     },
     "metadata": {},
     "output_type": "display_data"
    }
   ],
   "source": []
  },
  {
   "cell_type": "code",
   "execution_count": null,
   "metadata": {},
   "outputs": [],
   "source": []
  }
 ],
 "metadata": {
  "kernelspec": {
   "display_name": "Python 3",
   "language": "python",
   "name": "python3"
  },
  "language_info": {
   "codemirror_mode": {
    "name": "ipython",
    "version": 3
   },
   "file_extension": ".py",
   "mimetype": "text/x-python",
   "name": "python",
   "nbconvert_exporter": "python",
   "pygments_lexer": "ipython3",
   "version": "3.7.3"
  }
 },
 "nbformat": 4,
 "nbformat_minor": 4
}
